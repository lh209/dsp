{
 "cells": [
  {
   "cell_type": "code",
   "execution_count": 1,
   "metadata": {},
   "outputs": [
    {
     "name": "stderr",
     "output_type": "stream",
     "text": [
      "/home/louis/anaconda3/lib/python3.6/site-packages/statsmodels/compat/pandas.py:56: FutureWarning: The pandas.core.datetools module is deprecated and will be removed in a future version. Please use the pandas.tseries module instead.\n",
      "  from pandas.core import datetools\n",
      "/home/louis/anaconda3/lib/python3.6/site-packages/sklearn/cross_validation.py:41: DeprecationWarning: This module was deprecated in version 0.18 in favor of the model_selection module into which all the refactored classes and functions are moved. Also note that the interface of the new CV iterators are different from that of this module. This module will be removed in 0.20.\n",
      "  \"This module will be removed in 0.20.\", DeprecationWarning)\n"
     ]
    }
   ],
   "source": [
    "import csv\n",
    "import pandas as pd\n",
    "import numpy as np\n",
    "import math\n",
    "import re\n",
    "import os\n",
    "import string\n",
    "from sklearn import metrics\n",
    "import xgboost as xgbf\n",
    "import statsmodels.api as sm\n",
    "import numpy as np\n",
    "import got3\n",
    "from pandas.tseries.holiday import USFederalHolidayCalendar as calendar\n",
    "from sklearn.model_selection import RandomizedSearchCV\n",
    "import matplotlib.pyplot as plt\n",
    "import seaborn as sns\n",
    "from sklearn.cross_validation import train_test_split\n",
    "from sklearn.metrics import classification_report\n",
    "from sklearn.linear_model import LinearRegression, Lasso, LassoCV           \n",
    "from sklearn.model_selection import StratifiedShuffleSplit    \n",
    "import statsmodels.formula.api as smf\n",
    "from sklearn.cross_validation import cross_val_score\n",
    "import time\n",
    "from gensim.models import AuthorTopicModel\n",
    "from importlib import reload\n",
    "from sklearn.model_selection import cross_validate\n",
    "from sklearn.metrics import make_scorer, accuracy_score, precision_score, recall_score, f1_score,  fbeta_score, roc_auc_score, matthews_corrcoef\n",
    "\n",
    "import nltk\n",
    "from nltk.probability import FreqDist\n",
    "from nltk.stem.wordnet import WordNetLemmatizer\n",
    "\n",
    "\n",
    "\n",
    "import xgboost as xgb\n",
    "\n",
    "from sklearn.ensemble import RandomForestClassifier\n",
    "from sklearn.cross_validation import cross_val_score\n",
    "\n",
    "from sklearn.model_selection import StratifiedKFold\n",
    "\n",
    "\n",
    "%matplotlib inline\n",
    "pd.options.display.max_colwidth = 100\n"
   ]
  },
  {
   "cell_type": "code",
   "execution_count": 3,
   "metadata": {},
   "outputs": [
    {
     "data": {
      "text/plain": [
       "['/home/louis/anaconda3/lib/python3.6/site-packages']"
      ]
     },
     "execution_count": 3,
     "metadata": {},
     "output_type": "execute_result"
    }
   ],
   "source": [
    "import site\n",
    "site.getsitepackages()\n"
   ]
  },
  {
   "cell_type": "code",
   "execution_count": null,
   "metadata": {},
   "outputs": [],
   "source": [
    "#ssh -i \"aws_key.pem\" ubuntu@ec2-54-148-44-124.us-west-2.compute.amazonaws.com\n"
   ]
  },
  {
   "cell_type": "markdown",
   "metadata": {},
   "source": [
    "## 1. Data Prep - direct tweets"
   ]
  },
  {
   "cell_type": "code",
   "execution_count": 5,
   "metadata": {},
   "outputs": [],
   "source": [
    "import pymongo\n",
    "client = pymongo.MongoClient(\"mongodb://louis: @ec2-54-148-44-124.us-west-2.compute.amazonaws.com/twitter\") # defaults to port 27017\n",
    "db = client.twitter\n",
    "collection = db ['twitter_direct']"
   ]
  },
  {
   "cell_type": "code",
   "execution_count": 6,
   "metadata": {
    "scrolled": true
   },
   "outputs": [],
   "source": [
    "df_d_tweets = pd.DataFrame(list(collection.find()))"
   ]
  },
  {
   "cell_type": "code",
   "execution_count": 7,
   "metadata": {},
   "outputs": [
    {
     "data": {
      "text/plain": [
       "(918, 11)"
      ]
     },
     "execution_count": 7,
     "metadata": {},
     "output_type": "execute_result"
    }
   ],
   "source": [
    "df_d_tweets.shape"
   ]
  },
  {
   "cell_type": "code",
   "execution_count": 1621,
   "metadata": {
    "collapsed": true
   },
   "outputs": [
    {
     "data": {
      "text/plain": [
       "['!',\n",
       " '\"',\n",
       " '#',\n",
       " '$',\n",
       " '%',\n",
       " '&',\n",
       " \"'\",\n",
       " '(',\n",
       " ')',\n",
       " '*',\n",
       " '+',\n",
       " ',',\n",
       " '-',\n",
       " '.',\n",
       " '/',\n",
       " ':',\n",
       " ';',\n",
       " '<',\n",
       " '=',\n",
       " '>',\n",
       " '?',\n",
       " '@',\n",
       " '[',\n",
       " '\\\\',\n",
       " ']',\n",
       " '^',\n",
       " '_',\n",
       " '`',\n",
       " '{',\n",
       " '|',\n",
       " '}',\n",
       " '~']"
      ]
     },
     "execution_count": 1621,
     "metadata": {},
     "output_type": "execute_result"
    }
   ],
   "source": [
    "punctuation"
   ]
  },
  {
   "cell_type": "markdown",
   "metadata": {},
   "source": [
    "### Pre-Process Tweets "
   ]
  },
  {
   "cell_type": "code",
   "execution_count": 11,
   "metadata": {},
   "outputs": [],
   "source": [
    "import preprocessor as p\n",
    "from nltk.tokenize import TweetTokenizer\n",
    "from nltk.corpus import stopwords\n",
    "import re, string\n",
    "import nltk\n",
    "\n",
    "punctuation = list(string.punctuation)\n",
    "\n",
    "stopwords_lst = stopwords.words('english') + punctuation + \\\n",
    "                ['rt', 'via', 'RT', '…', '–' , '‘', '’', '“', '”'] + \\\n",
    "                [str(x) for x in range(0,10)] + \\\n",
    "                ['added', 'favorited', 'liked']\n",
    "    \n",
    "                \n",
    "        \n",
    "english_vocab = set(w.lower() for w in nltk.corpus.words.words())\n",
    "    \n",
    "    \n",
    "def process_tweet_text(tweet, clean = True):\n",
    "\n",
    "    if clean:\n",
    "        tweet = p.clean(tweet)\n",
    "    \n",
    "    tweet = re.sub(r'['+string.punctuation+']+', ' ',tweet) # Remove puncutations like 's\n",
    "   \n",
    "    tweet = tweet.lower()\n",
    "    \n",
    "    named_things = ['reilly bodycomb', \n",
    "                    'top rock',\n",
    "                    'leg lock',\n",
    "                    'leg attack',\n",
    "                    'knee bar', \n",
    "                    'ankle lock',\n",
    "                    'achilles lock',\n",
    "                    'heel hook', \n",
    "                    'toe hold', \n",
    "                    'arm bar', \n",
    "                    'rear naked choke', \n",
    "                    'full guard', \n",
    "                    'half guard', \n",
    "                    'no gi'\n",
    "                    'no kurtka', \n",
    "                    'leg reap',\n",
    "                    'back step'\n",
    "                    'guard pass',\n",
    "                    'no gi', \n",
    "                    'combat sambo',\n",
    "                    'sport sambo',\n",
    "                    'sambo wrestling,'\n",
    "                    'submission only',\n",
    "                    'submission grappling',\n",
    "                    'brazilian j',\n",
    "                    'jiu jit',\n",
    "                    'ju jit',\n",
    "                    'mixed martial arts',\n",
    "                    'mixed marital arts']\n",
    "\n",
    "    for i in named_things:\n",
    "        condensed_name = i.replace(' ','')\n",
    "        tweet = tweet.replace(i, condensed_name)\n",
    "        tweet = tweet.replace(condensed_name+'s', condensed_name)\n",
    "\n",
    "    named_variations = {'top rock 2: turbo': 'toprock', \n",
    "                        'top rock 2': 'toprock', \n",
    "                        'top rock turbo': 'toprock',\n",
    "                        'achilleslock': 'anklelock',\n",
    "                        'leglock': 'leglock',\n",
    "                        'leglocking' : 'leglock',\n",
    "                        'legattack ': 'leglock',\n",
    "                        'jujitsu': 'jiujitsu',\n",
    "                        'jujitu': 'bjj',\n",
    "                        'jiujitu': 'bjj',\n",
    "                        'brazilian jiu-jitsu': 'bjj',\n",
    "                        'brazilianjiujitsu': 'bjj',\n",
    "                        'jiujitsu': 'bjj',\n",
    "                        'sportsambo': 'sambo',\n",
    "                        'sambowrestling': 'sambo',\n",
    "                        'reillybodycomb': 'reilly',\n",
    "                        'rdojo': 'reilly',\n",
    "                        'r-dojo': 'reilly',\n",
    "                        'mixedmartialarts': 'mma',\n",
    "                        'mixedmaritalarts': 'mma'}\n",
    "\n",
    "    for i, j in named_variations.items():\n",
    "        tweet = tweet.replace(i, j)\n",
    "        \n",
    "    \n",
    "        \n",
    "    tweet = re.sub(r'\\$\\w*','',tweet) # Remove tickers\n",
    "    #tweet = re.sub(r'https?:\\/\\/.*\\/\\w*','',tweet) # Remove hyperlinks\n",
    "    \n",
    "    twtok = TweetTokenizer(strip_handles=True, reduce_len=True)\n",
    "    tokens = twtok.tokenize(tweet)\n",
    "    #print(tokens)\n",
    "    tokens = [i.lower() for i in tokens if i not in stopwords_lst]\n",
    " \n",
    "    tokens = ['bjj' if 'bjj' in i  else i for i in tokens]\n",
    "\n",
    "    lmtzr = WordNetLemmatizer()\n",
    "    # Lemmatize article by running each word through the pattern.en lemmatizer and only including it in the resulting text if the word doesn't appear in the set of stopwords\n",
    "    tokens = [lmtzr.lemmatize(w) for w in tokens]\n",
    "    \n",
    "    return ' '.join(tokens)\n",
    "    #return tokens\n",
    "\n"
   ]
  },
  {
   "cell_type": "code",
   "execution_count": 13,
   "metadata": {},
   "outputs": [
    {
     "data": {
      "text/plain": [
       "'toprock reilly budovideos inc'"
      ]
     },
     "execution_count": 13,
     "metadata": {},
     "output_type": "execute_result"
    }
   ],
   "source": [
    "process_tweet_text('Top Rock by Reilly Bodycomb - Budovideos Inc.')"
   ]
  },
  {
   "cell_type": "code",
   "execution_count": 14,
   "metadata": {},
   "outputs": [],
   "source": [
    "df_d_tweets['text'] = df_d_tweets['text'].str.strip()"
   ]
  },
  {
   "cell_type": "code",
   "execution_count": 15,
   "metadata": {},
   "outputs": [],
   "source": [
    "df_d_tweets['processed'] = df_d_tweets['text'].apply(process_tweet_text)"
   ]
  },
  {
   "cell_type": "code",
   "execution_count": 16,
   "metadata": {},
   "outputs": [],
   "source": [
    "df_d_tweets['processed_hashtags'] = df_d_tweets['hashtags'].apply(lambda x: process_tweet_text(x, clean=False))"
   ]
  },
  {
   "cell_type": "code",
   "execution_count": 17,
   "metadata": {},
   "outputs": [],
   "source": [
    "# Remove infrequent words \n",
    "twtok = TweetTokenizer(strip_handles=True, reduce_len=True)    \n",
    "all_tokens = pd.DataFrame(twtok.tokenize(' '.join(df_d_tweets['processed'])), columns = ['tokens'])\n",
    "token_cts = all_tokens['tokens'].value_counts(ascending = True) \n",
    "token_cts[token_cts  <= 3]\n",
    "\n",
    "stopwords_lst = stopwords_lst + token_cts[token_cts  <= 3].index.tolist()\n"
   ]
  },
  {
   "cell_type": "code",
   "execution_count": 18,
   "metadata": {},
   "outputs": [],
   "source": [
    "df_d_tweets['processed'] = df_d_tweets['processed'].apply(process_tweet_text)"
   ]
  },
  {
   "cell_type": "code",
   "execution_count": 19,
   "metadata": {},
   "outputs": [
    {
     "name": "stdout",
     "output_type": "stream",
     "text": [
      "#grappling #bjj #jujitsu #mma #mixedmaritalarts Reilly Bodycomb – ‘ Mastering Ankle Locks’ Download http://ow.ly/vWE550gCFZK\n"
     ]
    },
    {
     "data": {
      "text/plain": [
       "'reilly anklelock download'"
      ]
     },
     "execution_count": 19,
     "metadata": {},
     "output_type": "execute_result"
    }
   ],
   "source": [
    "print(df_d_tweets.loc[1, 'text'])\n",
    "df_d_tweets.loc[1, 'processed']"
   ]
  },
  {
   "cell_type": "markdown",
   "metadata": {},
   "source": [
    "## 2. Exploratory Data Analysis"
   ]
  },
  {
   "cell_type": "markdown",
   "metadata": {},
   "source": [
    "### Look at hashtags\n",
    "#### - insight into potential topics"
   ]
  },
  {
   "cell_type": "code",
   "execution_count": 20,
   "metadata": {
    "scrolled": true
   },
   "outputs": [
    {
     "data": {
      "text/html": [
       "<div>\n",
       "<style scoped>\n",
       "    .dataframe tbody tr th:only-of-type {\n",
       "        vertical-align: middle;\n",
       "    }\n",
       "\n",
       "    .dataframe tbody tr th {\n",
       "        vertical-align: top;\n",
       "    }\n",
       "\n",
       "    .dataframe thead th {\n",
       "        text-align: right;\n",
       "    }\n",
       "</style>\n",
       "<table border=\"1\" class=\"dataframe\">\n",
       "  <thead>\n",
       "    <tr style=\"text-align: right;\">\n",
       "      <th></th>\n",
       "      <th>hashtags</th>\n",
       "      <th>processed_hashtags</th>\n",
       "    </tr>\n",
       "  </thead>\n",
       "  <tbody>\n",
       "    <tr>\n",
       "      <th>0</th>\n",
       "      <td>#guywithnoinstagram #sambo #jiujitsupic</td>\n",
       "      <td>guywithnoinstagram sambo bjj</td>\n",
       "    </tr>\n",
       "    <tr>\n",
       "      <th>1</th>\n",
       "      <td>#grappling #bjj #jujitsu #mma #mixedmaritalarts</td>\n",
       "      <td>grappling bjj bjj mma mma</td>\n",
       "    </tr>\n",
       "    <tr>\n",
       "      <th>2</th>\n",
       "      <td></td>\n",
       "      <td></td>\n",
       "    </tr>\n",
       "    <tr>\n",
       "      <th>3</th>\n",
       "      <td>#sambo #jiujitsu #leglocksbeforetheywerecool</td>\n",
       "      <td>sambo bjj leglockbeforetheywerecool</td>\n",
       "    </tr>\n",
       "    <tr>\n",
       "      <th>4</th>\n",
       "      <td></td>\n",
       "      <td></td>\n",
       "    </tr>\n",
       "  </tbody>\n",
       "</table>\n",
       "</div>"
      ],
      "text/plain": [
       "                                          hashtags  \\\n",
       "0          #guywithnoinstagram #sambo #jiujitsupic   \n",
       "1  #grappling #bjj #jujitsu #mma #mixedmaritalarts   \n",
       "2                                                    \n",
       "3     #sambo #jiujitsu #leglocksbeforetheywerecool   \n",
       "4                                                    \n",
       "\n",
       "                    processed_hashtags  \n",
       "0         guywithnoinstagram sambo bjj  \n",
       "1            grappling bjj bjj mma mma  \n",
       "2                                       \n",
       "3  sambo bjj leglockbeforetheywerecool  \n",
       "4                                       "
      ]
     },
     "execution_count": 20,
     "metadata": {},
     "output_type": "execute_result"
    }
   ],
   "source": [
    "df_d_tweets[['hashtags', 'processed_hashtags']].head()"
   ]
  },
  {
   "cell_type": "code",
   "execution_count": null,
   "metadata": {},
   "outputs": [],
   "source": [
    "def author_barplot(author_name, n_topic = 10, save = ''):\n",
    "    sns.set_style(\"white\")\n",
    "    with plt.rc_context({'nbagg.transparent':'True', 'axes.labelcolor': 'white', 'text.color':'white', 'axes.edgecolor':'white', 'xtick.color':'white', 'ytick.color':'white', 'figure.facecolor':'white'}):\n",
    "        fig = plt.figure(figsize=(12,6))\n",
    "        fig.patch.set_alpha(0.5)\n",
    "        df_at = pd.DataFrame([(topic_labels[topic[0]], topic[1]) for topic in model[author_name]], columns = ['Topics', 'Dist'])\n",
    "        df_at.sort_values('Dist', ascending =False)\n",
    "\n",
    "        sns_plot = sns.barplot(df_at['Topics'][:(n_topic)], df_at['Dist'][:(n_topic)], \\\n",
    "                    palette= sns.color_palette(\"husl\", 10), ci=None)\n",
    "        plt.title(\"Twitter Profile: \" + author_name, fontsize = 16 )\n",
    "        plt.ylabel('Density', fontsize = 16)\n",
    "        plt.xlabel('Topic', fontsize = 16)\n",
    "        plt.xticks(rotation=45, fontsize = 12)\n",
    "\n",
    "        if save != '':\n",
    "            fig = sns_plot.get_figure()\n",
    "            fig.savefig(save +'.png', transparent=True)\n",
    "    "
   ]
  },
  {
   "cell_type": "code",
   "execution_count": 41,
   "metadata": {},
   "outputs": [
    {
     "data": {
      "image/png": "[encoded data removed]",
      "text/plain": [
       "<matplotlib.figure.Figure at 0x7fbd607b8ef0>"
      ]
     },
     "metadata": {},
     "output_type": "display_data"
    }
   ],
   "source": [
    "hashtags = []\n",
    "for hs in df_d_tweets[\"processed_hashtags\"]: # Each entry may contain multiple hashtags. Split.\n",
    "    if hs != '':\n",
    "        hashtags += hs.split(\" \")\n",
    "fdist1 = FreqDist(['#'+x for x in hashtags])\n",
    "\n",
    "\n",
    "tags = pd.DataFrame(hashtags)\n",
    "tags_cts = tags[0].value_counts().iloc[0:10]\n",
    "tags_cts.index = '#' + tags_cts.index\n",
    "\n",
    "sns.set_style(\"white\")\n",
    "with plt.rc_context({'nbagg.transparent':'True', 'axes.labelcolor': 'white', 'text.color':'white', 'axes.edgecolor':'white', 'xtick.color':'white', 'ytick.color':'white', 'figure.facecolor':'white'}):\n",
    "\n",
    "    plt.figure(figsize = (15,8))\n",
    "    sns_plot = sns.barplot(x=tags_cts.index, y=tags_cts, palette= sns.color_palette(\"husl\", 15)) #, color = \"steelblue\")\n",
    "    plt.xticks(rotation=45)\n",
    "    plt.tick_params(axis='both', which='major', labelsize=14)#, fontsize = 20)\n",
    "    plt.xlabel('Hashtags', fontsize = 20)\n",
    "    plt.ylabel('Counts', fontsize = 20)\n",
    " #   plt.title('Hashtag Histogram', fontsize = 26)\n",
    "\n",
    "    fig = sns_plot.get_figure()\n",
    "    fig.savefig('direct_hashtags' +'.png', transparent=True)"
   ]
  },
  {
   "cell_type": "code",
   "execution_count": null,
   "metadata": {},
   "outputs": [],
   "source": []
  },
  {
   "cell_type": "code",
   "execution_count": 1556,
   "metadata": {
    "scrolled": false
   },
   "outputs": [
    {
     "data": {
      "image/png": "[encoded data removed]",
      "text/plain": [
       "<matplotlib.figure.Figure at 0x7f65b941ecc0>"
      ]
     },
     "metadata": {},
     "output_type": "display_data"
    }
   ],
   "source": [
    "\n",
    "plt.figure(figsize = (12,8))\n",
    "#plt.xticks(rotation=45)\n",
    "plt.tick_params(axis='both', which='major', labelsize=16)\n",
    "plt.xlabel('Hashtags', fontsize =16)\n",
    "plt.ylabel('Counts', fontsize =16)\n",
    "#plt.title(\"HashTags\")\n",
    "fdist1.plot(10)\n",
    "#plt.xlabel(fontsize = 14)"
   ]
  },
  {
   "cell_type": "code",
   "execution_count": null,
   "metadata": {},
   "outputs": [],
   "source": []
  },
  {
   "cell_type": "markdown",
   "metadata": {},
   "source": [
    "### Reduction"
   ]
  },
  {
   "cell_type": "code",
   "execution_count": 43,
   "metadata": {},
   "outputs": [],
   "source": [
    "# Imports\n",
    "# Basics\n",
    "from __future__ import print_function, division\n",
    "import pandas as pd \n",
    "import numpy as np\n",
    "from matplotlib import pyplot as plt\n",
    "%matplotlib inline\n",
    "# gensim\n",
    "from gensim import corpora, models, similarities, matutils\n",
    "# sklearn\n",
    "from sklearn import datasets\n",
    "from sklearn.feature_extraction.text import CountVectorizer, TfidfVectorizer\n",
    "from sklearn.naive_bayes import MultinomialNB\n",
    "from sklearn.model_selection import train_test_split\n",
    "from sklearn.cluster import KMeans\n",
    "from sklearn.neighbors import KNeighborsClassifier\n",
    "import sklearn.metrics.pairwise as smp\n",
    "\n",
    "from sklearn.decomposition import NMF\n",
    "\n",
    "import logging\n",
    "logging.basicConfig(format='%(asctime)s : %(levelname)s : %(message)s', level=logging.INFO)"
   ]
  },
  {
   "cell_type": "markdown",
   "metadata": {},
   "source": [
    "#### TFIDF Creation"
   ]
  },
  {
   "cell_type": "code",
   "execution_count": 44,
   "metadata": {},
   "outputs": [
    {
     "data": {
      "text/html": [
       "<div>\n",
       "<style scoped>\n",
       "    .dataframe tbody tr th:only-of-type {\n",
       "        vertical-align: middle;\n",
       "    }\n",
       "\n",
       "    .dataframe tbody tr th {\n",
       "        vertical-align: top;\n",
       "    }\n",
       "\n",
       "    .dataframe thead th {\n",
       "        text-align: right;\n",
       "    }\n",
       "</style>\n",
       "<table border=\"1\" class=\"dataframe\">\n",
       "  <thead>\n",
       "    <tr style=\"text-align: right;\">\n",
       "      <th></th>\n",
       "      <th>anklelock</th>\n",
       "      <th>arch</th>\n",
       "      <th>awesome</th>\n",
       "      <th>bay</th>\n",
       "      <th>bjj</th>\n",
       "      <th>bloody</th>\n",
       "      <th>book</th>\n",
       "      <th>brutality</th>\n",
       "      <th>camp</th>\n",
       "      <th>carry</th>\n",
       "      <th>...</th>\n",
       "      <th>tournament</th>\n",
       "      <th>training</th>\n",
       "      <th>usa</th>\n",
       "      <th>victor</th>\n",
       "      <th>video</th>\n",
       "      <th>week</th>\n",
       "      <th>weekend</th>\n",
       "      <th>world</th>\n",
       "      <th>wrestling</th>\n",
       "      <th>youtube</th>\n",
       "    </tr>\n",
       "  </thead>\n",
       "  <tbody>\n",
       "    <tr>\n",
       "      <th>0</th>\n",
       "      <td>0.000000</td>\n",
       "      <td>0.0</td>\n",
       "      <td>0.0</td>\n",
       "      <td>0.0</td>\n",
       "      <td>0.0</td>\n",
       "      <td>0.0</td>\n",
       "      <td>0.0</td>\n",
       "      <td>0.0</td>\n",
       "      <td>0.0</td>\n",
       "      <td>0.0</td>\n",
       "      <td>...</td>\n",
       "      <td>0.0</td>\n",
       "      <td>1.000000</td>\n",
       "      <td>0.0</td>\n",
       "      <td>0.0</td>\n",
       "      <td>0.0</td>\n",
       "      <td>0.0</td>\n",
       "      <td>0.0</td>\n",
       "      <td>0.0</td>\n",
       "      <td>0.0</td>\n",
       "      <td>0.0</td>\n",
       "    </tr>\n",
       "    <tr>\n",
       "      <th>1</th>\n",
       "      <td>0.976777</td>\n",
       "      <td>0.0</td>\n",
       "      <td>0.0</td>\n",
       "      <td>0.0</td>\n",
       "      <td>0.0</td>\n",
       "      <td>0.0</td>\n",
       "      <td>0.0</td>\n",
       "      <td>0.0</td>\n",
       "      <td>0.0</td>\n",
       "      <td>0.0</td>\n",
       "      <td>...</td>\n",
       "      <td>0.0</td>\n",
       "      <td>0.000000</td>\n",
       "      <td>0.0</td>\n",
       "      <td>0.0</td>\n",
       "      <td>0.0</td>\n",
       "      <td>0.0</td>\n",
       "      <td>0.0</td>\n",
       "      <td>0.0</td>\n",
       "      <td>0.0</td>\n",
       "      <td>0.0</td>\n",
       "    </tr>\n",
       "    <tr>\n",
       "      <th>2</th>\n",
       "      <td>0.000000</td>\n",
       "      <td>0.0</td>\n",
       "      <td>0.0</td>\n",
       "      <td>0.0</td>\n",
       "      <td>0.0</td>\n",
       "      <td>0.0</td>\n",
       "      <td>0.0</td>\n",
       "      <td>0.0</td>\n",
       "      <td>0.0</td>\n",
       "      <td>0.0</td>\n",
       "      <td>...</td>\n",
       "      <td>0.0</td>\n",
       "      <td>0.412125</td>\n",
       "      <td>0.0</td>\n",
       "      <td>0.0</td>\n",
       "      <td>0.0</td>\n",
       "      <td>0.0</td>\n",
       "      <td>0.0</td>\n",
       "      <td>0.0</td>\n",
       "      <td>0.0</td>\n",
       "      <td>0.0</td>\n",
       "    </tr>\n",
       "    <tr>\n",
       "      <th>3</th>\n",
       "      <td>0.000000</td>\n",
       "      <td>0.0</td>\n",
       "      <td>0.0</td>\n",
       "      <td>0.0</td>\n",
       "      <td>0.0</td>\n",
       "      <td>0.0</td>\n",
       "      <td>0.0</td>\n",
       "      <td>0.0</td>\n",
       "      <td>0.0</td>\n",
       "      <td>0.0</td>\n",
       "      <td>...</td>\n",
       "      <td>0.0</td>\n",
       "      <td>0.000000</td>\n",
       "      <td>0.0</td>\n",
       "      <td>0.0</td>\n",
       "      <td>0.0</td>\n",
       "      <td>0.0</td>\n",
       "      <td>0.0</td>\n",
       "      <td>0.0</td>\n",
       "      <td>0.0</td>\n",
       "      <td>0.0</td>\n",
       "    </tr>\n",
       "    <tr>\n",
       "      <th>4</th>\n",
       "      <td>0.834660</td>\n",
       "      <td>0.0</td>\n",
       "      <td>0.0</td>\n",
       "      <td>0.0</td>\n",
       "      <td>0.0</td>\n",
       "      <td>0.0</td>\n",
       "      <td>0.0</td>\n",
       "      <td>0.0</td>\n",
       "      <td>0.0</td>\n",
       "      <td>0.0</td>\n",
       "      <td>...</td>\n",
       "      <td>0.0</td>\n",
       "      <td>0.000000</td>\n",
       "      <td>0.0</td>\n",
       "      <td>0.0</td>\n",
       "      <td>0.0</td>\n",
       "      <td>0.0</td>\n",
       "      <td>0.0</td>\n",
       "      <td>0.0</td>\n",
       "      <td>0.0</td>\n",
       "      <td>0.0</td>\n",
       "    </tr>\n",
       "  </tbody>\n",
       "</table>\n",
       "<p>5 rows × 101 columns</p>\n",
       "</div>"
      ],
      "text/plain": [
       "   anklelock  arch  awesome  bay  bjj  bloody  book  brutality  camp  carry  \\\n",
       "0   0.000000   0.0      0.0  0.0  0.0     0.0   0.0        0.0   0.0    0.0   \n",
       "1   0.976777   0.0      0.0  0.0  0.0     0.0   0.0        0.0   0.0    0.0   \n",
       "2   0.000000   0.0      0.0  0.0  0.0     0.0   0.0        0.0   0.0    0.0   \n",
       "3   0.000000   0.0      0.0  0.0  0.0     0.0   0.0        0.0   0.0    0.0   \n",
       "4   0.834660   0.0      0.0  0.0  0.0     0.0   0.0        0.0   0.0    0.0   \n",
       "\n",
       "    ...     tournament  training  usa  victor  video  week  weekend  world  \\\n",
       "0   ...            0.0  1.000000  0.0     0.0    0.0   0.0      0.0    0.0   \n",
       "1   ...            0.0  0.000000  0.0     0.0    0.0   0.0      0.0    0.0   \n",
       "2   ...            0.0  0.412125  0.0     0.0    0.0   0.0      0.0    0.0   \n",
       "3   ...            0.0  0.000000  0.0     0.0    0.0   0.0      0.0    0.0   \n",
       "4   ...            0.0  0.000000  0.0     0.0    0.0   0.0      0.0    0.0   \n",
       "\n",
       "   wrestling  youtube  \n",
       "0        0.0      0.0  \n",
       "1        0.0      0.0  \n",
       "2        0.0      0.0  \n",
       "3        0.0      0.0  \n",
       "4        0.0      0.0  \n",
       "\n",
       "[5 rows x 101 columns]"
      ]
     },
     "execution_count": 44,
     "metadata": {},
     "output_type": "execute_result"
    }
   ],
   "source": [
    "# Vectorize the text using TFIDF\n",
    "# also drop duplicate tweets/retweets\n",
    "\n",
    "df_du_tweets = df_d_tweets\n",
    "df_du_tweets['text'] = df_du_tweets['text'].apply(p.clean)\n",
    "df_du_tweets.drop_duplicates('text', keep='last', inplace=True)\n",
    "df_du_tweets.reset_index(inplace=True)\n",
    "\n",
    "\n",
    "tfidf = TfidfVectorizer(stop_words=\"english\", \n",
    "                        token_pattern=\"\\\\b[a-zA-Z][a-zA-Z]+\\\\b\", #words with >= 2 alpha chars \n",
    "                        min_df=10)\n",
    "tfidf_vecs = tfidf.fit_transform(df_du_tweets['processed'])\n",
    "pd.DataFrame(tfidf_vecs.todense(), \n",
    "             columns=tfidf.get_feature_names()\n",
    "            ).head()"
   ]
  },
  {
   "cell_type": "code",
   "execution_count": 45,
   "metadata": {},
   "outputs": [
    {
     "name": "stderr",
     "output_type": "stream",
     "text": [
      "2018-03-08 12:34:49,211 : INFO : adding document #0 to Dictionary(0 unique tokens: [])\n",
      "2018-03-08 12:34:49,216 : INFO : built Dictionary(101 unique tokens: ['training', 'reilly', 'anklelock', 'coach', 'leglock']...) from 798 documents (total 1397 corpus positions)\n"
     ]
    }
   ],
   "source": [
    "# Convert sparse matrix of counts to a gensim corpus\n",
    "# Need to transpose it for gensim which wants \n",
    "# terms by docs instead of docs by terms\n",
    "tfidf_corpus = matutils.Sparse2Corpus(tfidf_vecs.transpose())\n",
    "\n",
    "# Row indices\n",
    "id2word = dict((v, k) for k, v in tfidf.vocabulary_.items())\n",
    "\n",
    "# This is a hack for Python 3!\n",
    "id2word = corpora.Dictionary.from_corpus(tfidf_corpus, \n",
    "                                         id2word=id2word)\n",
    "\n"
   ]
  },
  {
   "cell_type": "code",
   "execution_count": 128,
   "metadata": {},
   "outputs": [],
   "source": [
    "# plot silhoutte function\n",
    "import matplotlib.cm as cm\n",
    "\n",
    "def plot_sil(n_clusters, tfidf_vecs):\n",
    "\n",
    "#    n_clusters = kclust_sil\n",
    "\n",
    "    #.figure(figsize = (14,10))\n",
    "\n",
    "\n",
    "    ax1 = plt.figure(figsize = (14,10)).gca()\n",
    "    #fig.set_size_inches(20, 10)\n",
    "\n",
    "    # The 1st subplot is the silhouette plot\n",
    "    # The silhouette coefficient can range from -1, 1 but in this example all\n",
    "    # lie within [-0.1, 1]\n",
    "    ax1.set_xlim([0, 1])\n",
    "    # The (n_clusters+1)*10 is for inserting blank space between silhouette\n",
    "    # plots of individual clusters, to demarcate them clearly.\n",
    "    #ax1.set_ylim([0, tfidf_vecs.shape[0] + (n_clusters + 1) * 10])\n",
    "\n",
    "    # Initialize the clusterer with n_clusters value and a random generator\n",
    "    # seed of 10 for reproducibility.\n",
    "    clusterer = KMeans(n_clusters=n_clusters, random_state=10)\n",
    "    cluster_labels = clusterer.fit_predict( tfidf_vecs )\n",
    "\n",
    "    # The silhouette_score gives the average value for all the samples.\n",
    "    # This gives a perspective into the density and separation of the formed\n",
    "    # clusters\n",
    "    silhouette_avg = silhouette_score(tfidf_vecs, cluster_labels)\n",
    "\n",
    "\n",
    "    sample_silhouette_values = silhouette_samples(tfidf_vecs, cluster_labels)\n",
    "\n",
    "\n",
    "    y_lower = 10\n",
    "    for i in range(n_clusters):\n",
    "        # Aggregate the silhouette scores for samples belonging to\n",
    "        # cluster i, and sort them\n",
    "        ith_cluster_silhouette_values = sample_silhouette_values[labels == i]\n",
    "\n",
    "        ith_cluster_silhouette_values.sort()\n",
    "\n",
    "        size_cluster_i = ith_cluster_silhouette_values.shape[0]\n",
    "        y_upper = y_lower + size_cluster_i\n",
    "\n",
    "        color = cm.spectral(float(i) / n_clusters)\n",
    "        ax1.fill_betweenx(np.arange(y_lower, y_upper),\n",
    "                        0, ith_cluster_silhouette_values,\n",
    "                        facecolor=color, edgecolor=color, alpha=0.7)\n",
    "\n",
    "        # Label the silhouette plots with their cluster numbers at the middle\n",
    "        ax1.text(-0.05, y_lower + 0.5 * size_cluster_i, str(i))\n",
    "\n",
    "        # Compute the new y_lower for next plot\n",
    "        y_lower = y_upper + 10  # 10 for the 0 samples\n",
    "\n",
    "    ax1.set_title(\"The silhouette plot for the various clusters.\")\n",
    "    ax1.set_xlabel(\"The silhouette coefficient values\")\n",
    "    ax1.set_ylabel(\"Cluster label\")\n",
    "\n",
    "    # The vertical line for average silhoutte score of all the values\n",
    "    ax1.axvline(x=silhouette_avg, color=\"red\", linestyle=\"--\")\n",
    "\n",
    "    ax1.set_yticks([])  # Clear the yaxis labels / ticks\n",
    "    ax1.set_xticks([0, 0.2, 0.4, 0.6, 0.8, 1])\n",
    "\n",
    "\n",
    "    # Labeling the clusters\n",
    "    centers = clusterer.cluster_centers_\n",
    "    # Draw white circles at cluster centers\n",
    "\n",
    "\n",
    "    plt.suptitle((\"Silhouette analysis for KMeans clustering on sample data \"\n",
    "                \"with n_clusters = %d\" % n_clusters),\n",
    "               fontsize=14, fontweight='bold')\n",
    "\n",
    "    plt.show()"
   ]
  },
  {
   "cell_type": "code",
   "execution_count": 72,
   "metadata": {
    "scrolled": false
   },
   "outputs": [
    {
     "data": {
      "image/png": "[encoded data removed]",
      "text/plain": [
       "<matplotlib.figure.Figure at 0x7fbd60bb92b0>"
      ]
     },
     "metadata": {},
     "output_type": "display_data"
    }
   ],
   "source": [
    "#Elbow Plot\n",
    "\n",
    "sns.set_style(\"white\")\n",
    "with plt.rc_context({'nbagg.transparent':'True', 'axes.labelcolor': 'white', 'text.color':'white', 'axes.edgecolor':'white', 'xtick.color':'white', 'ytick.color':'white', 'figure.facecolor':'white'}):\n",
    "\n",
    "    plt.figure(figsize = (10,8))\n",
    "    plt.plot(clusters_rng, pd.DataFrame(best_inertias).mean(), \".-\", color = 'steelblue', markersize = 13)\n",
    "    plt.plot(clusters_rng[kclust_elbow], pd.DataFrame(best_inertias).mean()[kclust_elbow], marker='o', markersize=20, color = 'blanchedalmond',\n",
    "             markeredgewidth=2, markeredgecolor='orange')#, markerfacecolor=None)\n",
    "    plt.ylabel(\"Inertia\", fontsize = 16)\n",
    "    plt.xlabel(\"K Clusters\", fontsize = 16)\n",
    "    plt.xticks(fontsize = 16)\n",
    "    plt.yticks(fontsize = 16)\n",
    "    plt.title(\"Kmeans Elbow Plot\", fontsize = 18)\n",
    "#    plt.show()\n",
    "\n",
    "\n",
    "#    fig = plt_plot.get_figure()\n",
    "    plt.savefig('direct_elbow' +'.png', transparent=True)\n",
    "\n",
    "#         plt.title(\"Twitter Profile: \" + author_name, fontsize = 16 )\n",
    "#         plt.ylabel('Density', fontsize = 16)\n",
    "#         plt.xlabel('Topic', fontsize = 16)\n",
    "#         plt.xticks(rotation=45, fontsize = 12)\n",
    "\n",
    "        \n",
    "        \n",
    "        "
   ]
  },
  {
   "cell_type": "code",
   "execution_count": 1611,
   "metadata": {
    "scrolled": false
   },
   "outputs": [
    {
     "data": {
      "image/png": "[encoded data removed]",
      "text/plain": [
       "<matplotlib.figure.Figure at 0x7f65b82a2470>"
      ]
     },
     "metadata": {},
     "output_type": "display_data"
    }
   ],
   "source": [
    "#plot silhouette. N_Cluster based on elbow.\n",
    "plot_sil(kclust_elbow, tfidf_vecs)"
   ]
  },
  {
   "cell_type": "markdown",
   "metadata": {},
   "source": [
    "### a. LSI Model"
   ]
  },
  {
   "cell_type": "code",
   "execution_count": 154,
   "metadata": {},
   "outputs": [],
   "source": [
    "# 10, 100 to start to see\n",
    "# reran with modified arguments after analyzing elbow, etc\n",
    "\n",
    "NUM_TOPICS = 50\n",
    "NUM_FEATURES = 50"
   ]
  },
  {
   "cell_type": "code",
   "execution_count": 155,
   "metadata": {
    "scrolled": false
   },
   "outputs": [
    {
     "name": "stderr",
     "output_type": "stream",
     "text": [
      "2018-03-08 13:21:22,864 : INFO : using serial LSI version on this node\n",
      "2018-03-08 13:21:22,865 : INFO : updating model with new documents\n",
      "2018-03-08 13:21:22,895 : INFO : preparing a new chunk of documents\n",
      "2018-03-08 13:21:22,899 : INFO : using 100 extra samples and 2 power iterations\n",
      "2018-03-08 13:21:22,900 : INFO : 1st phase: constructing (101, 150) action matrix\n",
      "2018-03-08 13:21:22,908 : INFO : orthonormalizing (101, 150) action matrix\n",
      "2018-03-08 13:21:22,919 : INFO : 2nd phase: running dense svd on (101, 798) matrix\n",
      "2018-03-08 13:21:22,925 : INFO : computing the final decomposition\n",
      "2018-03-08 13:21:22,926 : INFO : keeping 50 factors (discarding 17.962% of energy spectrum)\n",
      "2018-03-08 13:21:22,927 : INFO : processed documents up to #798\n",
      "2018-03-08 13:21:22,928 : INFO : topic #0(10.131): 0.925*\"reilly\" + 0.217*\"sambo\" + 0.159*\"seminar\" + 0.121*\"leglock\" + 0.076*\"video\" + 0.072*\"grappling\" + 0.063*\"nogi\" + 0.057*\"bjj\" + 0.049*\"highlight\" + 0.047*\"today\"\n",
      "2018-03-08 13:21:22,929 : INFO : topic #1(6.050): -0.691*\"sambo\" + 0.348*\"reilly\" + -0.327*\"leglock\" + -0.246*\"nogi\" + -0.245*\"grappling\" + -0.219*\"seminar\" + -0.152*\"video\" + -0.140*\"highlight\" + -0.108*\"bjj\" + -0.086*\"league\"\n",
      "2018-03-08 13:21:22,930 : INFO : topic #2(5.339): 0.781*\"seminar\" + -0.200*\"sambo\" + -0.192*\"technique\" + -0.191*\"talk\" + -0.191*\"make\" + -0.178*\"palhares\" + -0.167*\"sense\" + -0.167*\"brutality\" + -0.161*\"rousimar\" + -0.130*\"grappling\"\n",
      "2018-03-08 13:21:22,930 : INFO : topic #3(5.227): 0.382*\"seminar\" + 0.352*\"make\" + 0.348*\"talk\" + 0.332*\"technique\" + 0.326*\"palhares\" + 0.313*\"sense\" + 0.313*\"brutality\" + 0.300*\"rousimar\" + -0.184*\"sambo\" + -0.088*\"reilly\"\n",
      "2018-03-08 13:21:22,931 : INFO : topic #4(4.740): -0.705*\"leglock\" + 0.397*\"sambo\" + -0.251*\"grappling\" + -0.233*\"nogi\" + 0.163*\"seminar\" + 0.139*\"wrestling\" + 0.113*\"book\" + 0.111*\"bloody\" + 0.111*\"bjj\" + -0.109*\"combatsambo\"\n"
     ]
    }
   ],
   "source": [
    "lsi = models.LsiModel(tfidf_corpus, id2word=id2word, num_topics=NUM_TOPICS)"
   ]
  },
  {
   "cell_type": "code",
   "execution_count": 114,
   "metadata": {},
   "outputs": [
    {
     "data": {
      "text/plain": [
       "50"
      ]
     },
     "execution_count": 114,
     "metadata": {},
     "output_type": "execute_result"
    }
   ],
   "source": [
    "NUM_FEATURES"
   ]
  },
  {
   "cell_type": "code",
   "execution_count": 117,
   "metadata": {},
   "outputs": [
    {
     "name": "stderr",
     "output_type": "stream",
     "text": [
      "2018-03-08 13:05:57,979 : INFO : creating matrix with 798 documents and 50 features\n"
     ]
    }
   ],
   "source": [
    "# Retrieve vectors for the original tfidf corpus in the LSI space (\"transform\" in sklearn)\n",
    "lsi_corpus = lsi[tfidf_corpus]\n",
    "\n",
    "# Dump the resulting document vectors into a list so we can take a look\n",
    "doc_vecs = [doc for doc in lsi_corpus]\n",
    "\n",
    "# Create an index transformer that calculates similarity based on \n",
    "# our space\n",
    "index = similarities.MatrixSimilarity(doc_vecs, \n",
    "                                      num_features=NUM_FEATURES)\n"
   ]
  },
  {
   "cell_type": "code",
   "execution_count": 118,
   "metadata": {
    "scrolled": false
   },
   "outputs": [
    {
     "name": "stdout",
     "output_type": "stream",
     "text": [
      "LSI Topics\n",
      "\n",
      "Topic #0: 0.925*\"reilly\" + 0.217*\"sambo\" + 0.159*\"seminar\" + 0.121*\"leglock\" + 0.076*\"video\"\n",
      "Topic #1: -0.691*\"sambo\" + 0.348*\"reilly\" + -0.327*\"leglock\" + -0.246*\"nogi\" + -0.245*\"grappling\"\n",
      "Topic #2: -0.781*\"seminar\" + 0.200*\"sambo\" + 0.192*\"technique\" + 0.191*\"talk\" + 0.191*\"make\"\n",
      "Topic #3: -0.382*\"seminar\" + -0.352*\"make\" + -0.348*\"talk\" + -0.332*\"technique\" + -0.326*\"palhares\"\n",
      "Topic #4: 0.705*\"leglock\" + -0.397*\"sambo\" + 0.251*\"grappling\" + 0.233*\"nogi\" + -0.163*\"seminar\"\n",
      "Topic #5: -0.518*\"grappling\" + 0.373*\"leglock\" + -0.371*\"highlight\" + -0.330*\"nogi\" + 0.322*\"video\"\n",
      "Topic #6: -0.612*\"video\" + 0.294*\"leglock\" + -0.282*\"heelhook\" + -0.218*\"scissor\" + -0.207*\"flying\"\n",
      "Topic #7: -0.586*\"bjj\" + -0.427*\"camp\" + -0.306*\"training\" + -0.299*\"today\" + -0.232*\"great\"\n",
      "Topic #8: 0.561*\"bjj\" + -0.526*\"camp\" + -0.374*\"training\" + -0.199*\"great\" + 0.185*\"bay\"\n",
      "Topic #9: -0.536*\"heelhook\" + 0.318*\"video\" + -0.298*\"eddie\" + -0.286*\"cummings\" + -0.245*\"bloody\"\n",
      "Topic #10: 0.448*\"combatsambo\" + 0.393*\"dynamic\" + 0.345*\"entry\" + 0.236*\"dvd\" + 0.201*\"today\"\n",
      "Topic #11: 0.363*\"video\" + -0.358*\"takedown\" + -0.336*\"leg\" + -0.287*\"scissor\" + -0.255*\"flying\"\n",
      "Topic #12: -0.470*\"today\" + 0.261*\"combatsambo\" + 0.258*\"dynamic\" + 0.238*\"entry\" + -0.233*\"book\"\n",
      "Topic #13: 0.353*\"today\" + 0.330*\"eddie\" + -0.306*\"heelhook\" + 0.305*\"cummings\" + -0.277*\"bjj\"\n",
      "Topic #14: -0.372*\"today\" + -0.333*\"heelhook\" + 0.320*\"eddie\" + 0.301*\"cummings\" + -0.225*\"great\"\n",
      "Topic #15: -0.433*\"check\" + 0.422*\"today\" + -0.409*\"great\" + -0.221*\"interview\" + 0.201*\"camp\"\n",
      "Topic #16: -0.331*\"new\" + -0.319*\"dvd\" + 0.289*\"team\" + 0.267*\"great\" + 0.226*\"open\"\n",
      "Topic #17: 0.445*\"team\" + 0.398*\"mma\" + 0.275*\"pro\" + 0.247*\"open\" + 0.233*\"dvd\"\n",
      "Topic #18: 0.465*\"great\" + -0.388*\"check\" + -0.324*\"new\" + -0.256*\"team\" + 0.208*\"dvd\"\n",
      "Topic #19: 0.441*\"toprock\" + -0.325*\"ny\" + -0.268*\"mma\" + -0.267*\"combatsambo\" + 0.207*\"dynamic\"\n",
      "Topic #20: 0.444*\"check\" + -0.323*\"toprock\" + -0.318*\"new\" + -0.283*\"great\" + -0.267*\"tournament\"\n",
      "Topic #21: -0.426*\"day\" + -0.396*\"match\" + -0.347*\"mike\" + -0.288*\"new\" + 0.255*\"camp\"\n",
      "Topic #22: -0.376*\"pro\" + -0.370*\"mma\" + 0.364*\"highlight\" + 0.292*\"awesome\" + 0.217*\"team\"\n",
      "Topic #23: 0.406*\"highlight\" + -0.368*\"ryan\" + -0.309*\"hall\" + -0.264*\"team\" + 0.252*\"awesome\"\n",
      "Topic #24: 0.506*\"toprock\" + 0.289*\"anklelock\" + 0.225*\"open\" + 0.222*\"match\" + 0.215*\"like\"\n",
      "Topic #25: -0.534*\"ryan\" + -0.446*\"hall\" + 0.258*\"open\" + -0.207*\"pro\" + -0.193*\"league\"\n",
      "Topic #26: 0.337*\"open\" + -0.291*\"team\" + 0.250*\"mat\" + -0.244*\"anklelock\" + -0.239*\"training\"\n",
      "Topic #27: -0.312*\"training\" + 0.296*\"anklelock\" + -0.269*\"roll\" + -0.257*\"victor\" + 0.253*\"match\"\n",
      "Topic #28: -0.511*\"anklelock\" + 0.333*\"toprock\" + -0.296*\"new\" + 0.212*\"interview\" + -0.199*\"present\"\n",
      "Topic #29: 0.643*\"short\" + -0.323*\"interview\" + -0.289*\"dvd\" + 0.220*\"weekend\" + -0.186*\"good\"\n",
      "Topic #30: 0.323*\"anklelock\" + -0.312*\"dvd\" + 0.241*\"interview\" + 0.235*\"tomorrow\" + 0.234*\"roll\"\n",
      "Topic #31: -0.438*\"interview\" + 0.313*\"tournament\" + -0.283*\"new\" + 0.259*\"time\" + -0.244*\"submission\"\n",
      "Topic #32: -0.415*\"dvd\" + -0.411*\"short\" + -0.271*\"interview\" + 0.256*\"good\" + 0.229*\"time\"\n",
      "Topic #33: 0.289*\"good\" + 0.278*\"interview\" + 0.272*\"submission\" + 0.261*\"control\" + 0.259*\"nogi\"\n",
      "Topic #34: 0.414*\"short\" + -0.294*\"nogi\" + 0.287*\"interview\" + 0.264*\"good\" + -0.227*\"check\"\n",
      "Topic #35: -0.351*\"training\" + 0.278*\"camp\" + 0.198*\"good\" + -0.186*\"escape\" + -0.179*\"league\"\n",
      "Topic #36: -0.478*\"fireman\" + -0.478*\"carry\" + -0.232*\"style\" + -0.225*\"special\" + 0.160*\"victor\"\n",
      "Topic #37: -0.663*\"weekend\" + 0.351*\"time\" + -0.291*\"tomorrow\" + 0.226*\"short\" + -0.200*\"instructor\"\n",
      "Topic #38: -0.538*\"league\" + -0.323*\"tomorrow\" + 0.266*\"weekend\" + 0.252*\"like\" + -0.207*\"check\"\n",
      "Topic #39: -0.422*\"coming\" + -0.315*\"th\" + 0.312*\"good\" + -0.247*\"teaching\" + 0.217*\"league\"\n",
      "Topic #40: 0.335*\"thanks\" + -0.329*\"submission\" + -0.268*\"tournament\" + -0.260*\"time\" + 0.248*\"awesome\"\n",
      "Topic #41: -0.350*\"thanks\" + 0.300*\"highlight\" + -0.292*\"grappling\" + -0.282*\"submission\" + 0.255*\"weekend\"\n",
      "Topic #42: 0.465*\"coming\" + -0.425*\"tomorrow\" + 0.340*\"thanks\" + 0.281*\"league\" + 0.218*\"th\"\n",
      "Topic #43: 0.336*\"like\" + 0.205*\"coach\" + -0.203*\"gold\" + -0.202*\"present\" + 0.200*\"style\"\n",
      "Topic #44: 0.414*\"like\" + 0.323*\"league\" + 0.313*\"time\" + 0.286*\"day\" + -0.241*\"thanks\"\n",
      "Topic #45: -0.546*\"week\" + 0.331*\"gold\" + -0.299*\"grappler\" + -0.249*\"cool\" + 0.185*\"league\"\n",
      "Topic #46: 0.533*\"grappler\" + -0.339*\"like\" + 0.292*\"time\" + -0.250*\"mma\" + -0.186*\"highlight\"\n",
      "Topic #47: -0.358*\"like\" + -0.345*\"grappler\" + 0.281*\"polaris\" + 0.255*\"control\" + 0.238*\"style\"\n",
      "Topic #48: 0.398*\"day\" + -0.298*\"week\" + 0.283*\"youtube\" + -0.278*\"escape\" + -0.228*\"time\"\n",
      "Topic #49: 0.333*\"coach\" + -0.316*\"gold\" + 0.286*\"youtube\" + -0.264*\"escape\" + 0.240*\"kneebar\"\n"
     ]
    }
   ],
   "source": [
    "print(\"LSI Topics\")\n",
    "print(\"\")\n",
    " \n",
    "for idx in range(NUM_TOPICS):\n",
    "    # Print the first 10 most representative topics\n",
    "    print(\"Topic #%s:\" % idx, lsi.print_topic(idx, 5))\n",
    " "
   ]
  },
  {
   "cell_type": "code",
   "execution_count": 119,
   "metadata": {},
   "outputs": [
    {
     "name": "stdout",
     "output_type": "stream",
     "text": [
      "(798, 51)\n"
     ]
    }
   ],
   "source": [
    "ng_lsi = matutils.corpus2dense(lsi_corpus, num_terms=51).transpose()\n",
    "print(ng_lsi.shape)\n"
   ]
  },
  {
   "cell_type": "code",
   "execution_count": 123,
   "metadata": {
    "scrolled": false
   },
   "outputs": [
    {
     "name": "stdout",
     "output_type": "stream",
     "text": [
      "Selected Topic: # 5\n",
      "Score: 1.0 :: years to when I was lucky enough to teach at one of my coach's clubs in . was a trooper of\n",
      "Score: 0.94 :: - When I gave my first , given to me by my coach, to rdojo as he prepared to…\n",
      "Score: 0.63 :: Coach Reilly , Julisa .jules, and Moises drilling the shot with these new recruits. .\n",
      "Score: 0.61 :: but I've done a few Reilly Bodycomb seminars and really liked his style, more into coaches\n",
      "Score: 0.57 :: Reilly Bodycomb on Instagram: “ wrecking it with another style inverted...\n",
      "Score: 0.56 :: thank you1please check out coach of Reilly Bodycomb als ( )\n",
      "Score: 0.55 :: alright so the last two weeks I've been working on an article with Sambo coach Reilly Body\n",
      "Score: 0.54 :: Congrats to my Sambo coach and Reilly Bodycomb, who both won their divisions at the Arnold\n",
      "Score: 0.53 :: of my coaches is Reilly Bodycomb, the leg lock guy & Hall's training partner. Curiously en\n",
      "Score: 0.52 :: Bay Jiu-Jitsu coaches. Thanks for coming out to ref and score! .\n",
      "Score: 0.43 :: Inverted gear athlete wannesderoover with the lower body attackage! . Thanks rdojo…\n",
      "Score: 0.43 :: Thanks, I already checked that. If you try to scale his system the same happens. RDojo's f\n",
      "Score: 0.42 :: Bloody Basics special: Learn how to Scissor Sweep and heelhook, Sambo style with Reilly Bo\n",
      "Score: 0.42 :: Bloody Basics special: Learn how to Scissor Sweep and heelhook, Sambo style with Reilly Bo\n",
      "Score: 0.42 :: Bloody Basics special: Learn how to Scissor Sweep and heelhook, Sambo style with Reilly Bo\n"
     ]
    }
   ],
   "source": [
    "#select topic\n",
    "# 7 is heel hooks, ankle locks\n",
    "topic_idx = 5\n",
    "\n",
    "# Return the sorted list of cosine similarities to the first document\n",
    "sims = sorted(enumerate(index[doc_vecs[topic_idx]]), key=lambda item: -item[1])\n",
    "\n",
    "print('Selected Topic: #', topic_idx)\n",
    "# Let's take a look at how we did\n",
    "for sim_doc_id, sim_score in sims[0:15]: \n",
    "    print(\"Score: \" + str(sim_score)[:4], '::', df_du_tweets.loc[sim_doc_id]['text'][:90])\n",
    "    #print(\"\")\n",
    "#    print(df_d_tweets.loc[sim_doc_id][['user', 'text']])\n",
    "#    print(df_d_tweets.loc[sim_doc_id]['user'], \" ::: \", df_d_tweets.loc[sim_doc_id]['dt'], \" ::: \", df_d_tweets.loc[sim_doc_id]['processed'], df_d_tweets.loc[sim_doc_id]['id'])\n",
    "#    print(, df_d_tweets.loc[sim_doc_id]['id'])"
   ]
  },
  {
   "cell_type": "code",
   "execution_count": 120,
   "metadata": {},
   "outputs": [
    {
     "data": {
      "text/plain": [
       "array([[ 0.02840641,  0.00614622, -0.01936784, ..., -0.04232841,\n",
       "        -0.03350408,  0.        ],\n",
       "       [ 0.22202535,  0.07025682, -0.05880848, ...,  0.02569558,\n",
       "        -0.08038595,  0.        ],\n",
       "       [ 0.24541904, -0.04075007,  0.00267595, ..., -0.11254986,\n",
       "         0.2658927 ,  0.        ],\n",
       "       ...,\n",
       "       [ 0.16341597, -0.00907798, -0.13763429, ...,  0.0256051 ,\n",
       "        -0.10126266,  0.        ],\n",
       "       [ 0.40504774, -0.2014607 ,  0.02552521, ...,  0.05901916,\n",
       "         0.01077783,  0.        ],\n",
       "       [ 0.40404633,  0.13515642,  0.03129947, ..., -0.17806077,\n",
       "         0.03567502,  0.        ]], dtype=float32)"
      ]
     },
     "execution_count": 120,
     "metadata": {},
     "output_type": "execute_result"
    }
   ],
   "source": [
    "ng_lsi"
   ]
  },
  {
   "cell_type": "code",
   "execution_count": 122,
   "metadata": {},
   "outputs": [
    {
     "name": "stdout",
     "output_type": "stream",
     "text": [
      "0\n"
     ]
    }
   ],
   "source": [
    "#Find number of clusters\n",
    "from collections import Counter\n",
    "from sklearn.metrics import silhouette_samples, silhouette_score\n",
    "\n",
    "\n",
    "elbow_kinks = []\n",
    "best_sils = []\n",
    "best_inertias = []\n",
    "\n",
    "for i in range(0,1):\n",
    "    print(i)\n",
    "    MAX_K = 49\n",
    "\n",
    "    clusters_rng = range(1, MAX_K + 1)\n",
    "\n",
    "    inertias = np.zeros(MAX_K)\n",
    "    diff = np.zeros(MAX_K)\n",
    "    diff2 = np.zeros(MAX_K)\n",
    "    diff3 = np.zeros(MAX_K)\n",
    "    sil_scores = []\n",
    "\n",
    "    for k in clusters_rng:\n",
    "        kmeans = KMeans(k, init='k-means++',  n_init=7, random_state = 0 ).fit(ng_lsi)\n",
    "        labels = kmeans.predict(ng_lsi)\n",
    "        \n",
    "        if k == 1:\n",
    "            sil_scores.append(-1)\n",
    "        else:\n",
    "            sil_scores.append(silhouette_score(tfidf_vecs, labels))\n",
    "        \n",
    "        inertias[k - 1] = kmeans.inertia_\n",
    "        # first difference    \n",
    "        if k > 1:\n",
    "            diff[k - 1] = inertias[k - 1] - inertias[k - 2]\n",
    "        # second difference\n",
    "        if k > 2:\n",
    "            diff2[k - 1] = diff[k - 1] - diff[k - 2]\n",
    "        # third difference\n",
    "        if k > 3:\n",
    "            diff3[k - 1] = diff2[k - 1] - diff2[k - 2]\n",
    "\n",
    "    elbow_kinks.append(np.argmin(diff3[3:]) + 3)\n",
    "    best_sils.append(np.argmax(sil_scores))\n",
    "    best_inertias.append(inertias)\n",
    "\n",
    "kclust_elbow = Counter(elbow_kinks).most_common(1)[0][0]\n",
    "kclust_sil = Counter(best_sils).most_common(1)[0][0]\n",
    "\n"
   ]
  },
  {
   "cell_type": "code",
   "execution_count": 125,
   "metadata": {},
   "outputs": [
    {
     "data": {
      "text/plain": [
       "3"
      ]
     },
     "execution_count": 125,
     "metadata": {},
     "output_type": "execute_result"
    }
   ],
   "source": [
    "kclust_elbow"
   ]
  },
  {
   "cell_type": "code",
   "execution_count": 190,
   "metadata": {
    "scrolled": false
   },
   "outputs": [
    {
     "data": {
      "image/png": "[encoded data removed]",
      "text/plain": [
       "<matplotlib.figure.Figure at 0x7fbd610adda0>"
      ]
     },
     "metadata": {},
     "output_type": "display_data"
    }
   ],
   "source": [
    "#Elbow Plot\n",
    "\n",
    "sns.set_style(\"white\")\n",
    "with plt.rc_context({'nbagg.transparent':'True', 'axes.labelcolor': 'white', 'text.color':'white', 'axes.edgecolor':'white', 'xtick.color':'white', 'ytick.color':'white', 'figure.facecolor':'white'}):\n",
    "\n",
    "    plt.figure(figsize = (10,8))\n",
    "    plt.plot(clusters_rng, pd.DataFrame(best_inertias).mean(), \".-\", color = 'steelblue', markersize = 13)\n",
    "    plt.plot(clusters_rng[13], pd.DataFrame(best_inertias).mean()[13], marker='o', markersize=20, color = 'blanchedalmond',\n",
    "             markeredgewidth=2, markeredgecolor='orange')#, markerfacecolor=None)\n",
    "    plt.ylabel(\"Inertia\", fontsize = 16)\n",
    "    plt.xlabel(\"K Clusters\", fontsize = 16)\n",
    "    plt.xticks(fontsize = 16)\n",
    "    plt.yticks(fontsize = 16)\n",
    "    plt.title(\"Kmeans Elbow Plot\", fontsize = 18)\n",
    "#    plt.show()\n",
    "\n",
    "\n",
    "#    fig = plt_plot.get_figure()\n",
    "    plt.savefig('direct_elbow' +'.png', transparent=True)\n",
    "\n",
    "#         plt.title(\"Twitter Profile: \" + author_name, fontsize = 16 )\n",
    "#         plt.ylabel('Density', fontsize = 16)\n",
    "#         plt.xlabel('Topic', fontsize = 16)\n",
    "#         plt.xticks(rotation=45, fontsize = 12)\n",
    "\n",
    "        \n",
    "        \n",
    "        "
   ]
  },
  {
   "cell_type": "code",
   "execution_count": 130,
   "metadata": {},
   "outputs": [
    {
     "data": {
      "image/png": "[encoded data removed]",
      "text/plain": [
       "<matplotlib.figure.Figure at 0x7fbd60d8e828>"
      ]
     },
     "metadata": {},
     "output_type": "display_data"
    }
   ],
   "source": [
    "#plot silhouette. N_Cluster based on silhoutte score\n",
    "plot_sil(kclust_sil, ng_lsi)"
   ]
  },
  {
   "cell_type": "markdown",
   "metadata": {},
   "source": [
    "#### Explore specific topics and similarities"
   ]
  },
  {
   "cell_type": "code",
   "execution_count": 135,
   "metadata": {},
   "outputs": [],
   "source": [
    "kmeans = KMeans(13, init='k-means++',  n_init=7, random_state = 0 ).fit(ng_lsi)\n",
    "labels = kmeans.predict(ng_lsi)"
   ]
  },
  {
   "cell_type": "code",
   "execution_count": 151,
   "metadata": {},
   "outputs": [
    {
     "data": {
      "text/plain": [
       "376    So Reilly Bodycomb having a good day. Published an article and announced he is taking on Eddie C...\n",
       "283                  Eddie Cummings beats Reilly Bodycomb rdojo by submission. Both of these warriors are…\n",
       "279                                                          Eddie Cummings vs Reilly Bodycomb Polaris Pro\n",
       "9                   Reilly Bodycomb - Flying Scissor Leg Takedown Details ( Fake Kick into body scissor) …\n",
       "619       He añadido un vídeo a una lista de reproducción de ( - Reilly Bodycomb - Flying Scissor Takedown\n",
       "618                                      I liked a video Reilly Bodycomb - Flying Scissor Takedown Details\n",
       "89                                                       Awesome Scissor Takedown and Kneebar from rdojo …\n",
       "340                                                                       Scissor take down drill. rdojo …\n",
       "347                                                       Reilly Bodycomb: Sambo Flying Scissor to Kneebar\n",
       "202                  rdojo with repostapp. ・・・ Scissor to kneebar at the USA Combat Wrestling Trials. Got…\n",
       "45                           Харесах видеоклип в – „Reilly Bodycomb - Flying Scissor Leg Takedown Details“\n",
       "284        Fast paced match up with Eddie Cummings & Reilly Bodycomb with a quick leg lock win for Eddie 󾌰\n",
       "201            Reilly Bodycomb hitting a flying scissor to kneebar at the USA Combat Wrestling team trials\n",
       "285                                    Eddie Cummings vs Reilly Bodycomb nogi: The moment of submission: .\n",
       "289                Eddie Cummings vs Reilly Bodycomb nogi: Eddie Cummings DEF Reilly Bodycomb by HEELHOOK!\n",
       "339                                                                                 Flying armbar! rdojo …\n",
       "282             Eddie Cummings beats Reilly Bodycomb by submission. Both of these warriors are great in...\n",
       "308                Eddie Wolverine Cummings talks ahead of his match with Reilly Bodycomb at Polaris Pro .\n",
       "608                        I added a video to a playlist Reilly Bodycomb - Flying Scissor Takedown Details\n",
       "553                                                 Reilly Bodycomb - Flying Scissor Takedown Details: via\n",
       "Name: text, dtype: object"
      ]
     },
     "execution_count": 151,
     "metadata": {},
     "output_type": "execute_result"
    }
   ],
   "source": [
    "df_d_tweets[[labels == 8][0]].sample(frac=1).head(20)['text']"
   ]
  },
  {
   "cell_type": "markdown",
   "metadata": {},
   "source": [
    "### b. LDA Model"
   ]
  },
  {
   "cell_type": "code",
   "execution_count": 1577,
   "metadata": {},
   "outputs": [
    {
     "name": "stderr",
     "output_type": "stream",
     "text": [
      "2018-03-05 01:34:17,923 : INFO : using symmetric alpha at 0.06666666666666667\n",
      "2018-03-05 01:34:17,924 : INFO : using symmetric eta at 0.06666666666666667\n",
      "2018-03-05 01:34:17,924 : INFO : using serial LDA version on this node\n",
      "2018-03-05 01:34:17,943 : INFO : running online (single-pass) LDA training, 15 topics, 1 passes over the supplied corpus of 798 documents, updating model once every 798 documents, evaluating perplexity every 798 documents, iterating 50x with a convergence threshold of 0.001000\n",
      "2018-03-05 01:34:17,944 : WARNING : too few updates, training might not converge; consider increasing the number of passes or iterations to improve accuracy\n",
      "2018-03-05 01:34:18,549 : INFO : -8.401 per-word bound, 338.0 perplexity estimate based on a held-out corpus of 798 documents with 1397 words\n",
      "2018-03-05 01:34:18,549 : INFO : PROGRESS: pass 0, at document #798/798\n",
      "2018-03-05 01:34:19,038 : INFO : topic #3 (0.067): 0.063*\"present\" + 0.062*\"reilly\" + 0.054*\"check\" + 0.039*\"day\" + 0.036*\"training\" + 0.034*\"wrestling\" + 0.030*\"sambo\" + 0.027*\"review\" + 0.021*\"mat\" + 0.021*\"seminar\"\n",
      "2018-03-05 01:34:19,039 : INFO : topic #7 (0.067): 0.219*\"reilly\" + 0.080*\"sambo\" + 0.052*\"leglock\" + 0.038*\"nogi\" + 0.029*\"highlight\" + 0.026*\"seminar\" + 0.026*\"grappling\" + 0.020*\"camp\" + 0.020*\"youtube\" + 0.017*\"championship\"\n",
      "2018-03-05 01:34:19,040 : INFO : topic #9 (0.067): 0.091*\"heelhook\" + 0.073*\"reilly\" + 0.059*\"video\" + 0.052*\"toprock\" + 0.041*\"mike\" + 0.035*\"learn\" + 0.033*\"escape\" + 0.029*\"scissor\" + 0.023*\"tournament\" + 0.022*\"victor\"\n",
      "2018-03-05 01:34:19,041 : INFO : topic #12 (0.067): 0.089*\"reilly\" + 0.050*\"seminar\" + 0.047*\"anklelock\" + 0.032*\"new\" + 0.030*\"grappling\" + 0.029*\"tonight\" + 0.029*\"leg\" + 0.027*\"single\" + 0.025*\"bjj\" + 0.025*\"today\"\n",
      "2018-03-05 01:34:19,042 : INFO : topic #10 (0.067): 0.081*\"reilly\" + 0.062*\"sambo\" + 0.057*\"seminar\" + 0.052*\"new\" + 0.045*\"camp\" + 0.043*\"arch\" + 0.031*\"toprock\" + 0.028*\"video\" + 0.026*\"tournament\" + 0.022*\"playlist\"\n",
      "2018-03-05 01:34:19,042 : INFO : topic diff=6.530001, rho=1.000000\n"
     ]
    }
   ],
   "source": [
    "lda_model = models.LdaModel(corpus=tfidf_corpus, num_topics=NUM_TOPICS, id2word=id2word)"
   ]
  },
  {
   "cell_type": "code",
   "execution_count": 1578,
   "metadata": {},
   "outputs": [
    {
     "name": "stdout",
     "output_type": "stream",
     "text": [
      "LDA Topics\n",
      "\n",
      "Topic #0: 0.073*\"reilly\" + 0.068*\"highlight\" + 0.041*\"th\" + 0.039*\"interview\" + 0.033*\"heelhook\"\n",
      "Topic #1: 0.142*\"reilly\" + 0.123*\"seminar\" + 0.042*\"video\" + 0.030*\"new\" + 0.030*\"ny\"\n",
      "Topic #2: 0.136*\"reilly\" + 0.088*\"sambo\" + 0.045*\"leglock\" + 0.042*\"bjj\" + 0.037*\"control\"\n",
      "Topic #3: 0.063*\"present\" + 0.062*\"reilly\" + 0.054*\"check\" + 0.039*\"day\" + 0.036*\"training\"\n",
      "Topic #4: 0.266*\"reilly\" + 0.064*\"sambo\" + 0.037*\"ryan\" + 0.032*\"seminar\" + 0.029*\"hall\"\n",
      "Topic #5: 0.076*\"reilly\" + 0.071*\"sambo\" + 0.068*\"leglock\" + 0.065*\"video\" + 0.053*\"nogi\"\n",
      "Topic #6: 0.062*\"reilly\" + 0.062*\"grappling\" + 0.053*\"bjj\" + 0.051*\"eddie\" + 0.041*\"cummings\"\n",
      "Topic #7: 0.219*\"reilly\" + 0.080*\"sambo\" + 0.052*\"leglock\" + 0.038*\"nogi\" + 0.029*\"highlight\"\n",
      "Topic #8: 0.073*\"reilly\" + 0.042*\"book\" + 0.038*\"sambo\" + 0.037*\"seminar\" + 0.035*\"check\"\n",
      "Topic #9: 0.091*\"heelhook\" + 0.073*\"reilly\" + 0.059*\"video\" + 0.052*\"toprock\" + 0.041*\"mike\"\n",
      "Topic #10: 0.081*\"reilly\" + 0.062*\"sambo\" + 0.057*\"seminar\" + 0.052*\"new\" + 0.045*\"camp\"\n",
      "Topic #11: 0.134*\"reilly\" + 0.060*\"great\" + 0.052*\"make\" + 0.046*\"talk\" + 0.046*\"sense\"\n",
      "Topic #12: 0.089*\"reilly\" + 0.050*\"seminar\" + 0.047*\"anklelock\" + 0.032*\"new\" + 0.030*\"grappling\"\n",
      "Topic #13: 0.069*\"reilly\" + 0.068*\"leglock\" + 0.036*\"heelhook\" + 0.034*\"seminar\" + 0.032*\"sambo\"\n",
      "Topic #14: 0.094*\"reilly\" + 0.094*\"today\" + 0.044*\"match\" + 0.044*\"leglock\" + 0.043*\"sambo\"\n"
     ]
    }
   ],
   "source": [
    "print(\"LDA Topics\")\n",
    "print(\"\")\n",
    " \n",
    "for idx in range(NUM_TOPICS):\n",
    "    # Print the first 10 most representative topics\n",
    "    print(\"Topic #%s:\" % idx, lda_model.print_topic(idx, 5))\n",
    " "
   ]
  },
  {
   "cell_type": "code",
   "execution_count": 1579,
   "metadata": {},
   "outputs": [
    {
     "name": "stderr",
     "output_type": "stream",
     "text": [
      "2018-03-05 01:34:19,588 : INFO : creating matrix with 798 documents and 100 features\n"
     ]
    }
   ],
   "source": [
    "# Retrieve vectors for the original tfidf corpus in the LSI space (\"transform\" in sklearn)\n",
    "lda_corpus = lda_model[tfidf_corpus]\n",
    "\n",
    "# Dump the resulting document vectors into a list so we can take a look\n",
    "doc_vecs = [doc for doc in lda_corpus]\n",
    "\n",
    "# Create an index transformer that calculates similarity based on \n",
    "# our space\n",
    "index = similarities.MatrixSimilarity(doc_vecs, \n",
    "                                      num_features=NUM_FEATURES)\n"
   ]
  },
  {
   "cell_type": "code",
   "execution_count": 1580,
   "metadata": {},
   "outputs": [
    {
     "name": "stdout",
     "output_type": "stream",
     "text": [
      "Selected Topic: # 7\n",
      "Score: 1.0 :: 我顶了一个 视频 Reilly Bodycomb Seminar at Studio : Ankle lock to Heel Hook Transition\n",
      "Score: 1.0 :: Reilly Bodycomb Seminar at Studio : Ankle lock to Heel Hook Transition …\n",
      "Score: 0.99 :: … Reilly Bodycomb Seminar at Studio : Ankle lock to Heel Hook Transition .\n",
      "Score: 0.96 :: Friday night drilling the Reilly Bodycomb heel hook setups from leg drag\n",
      "Score: 0.95 :: Question about the straight ankle lock in Reilly Bodycomb's \"Top Rock\"\n",
      "Score: 0.93 :: Reilly Bodycomb – ‘ Mastering Ankle Locks’ Download\n",
      "Score: 0.93 :: Reilly Bodycomb's tripoding ankle lock. I've learned this from him and have had a quite a \n",
      "Score: 0.93 :: Tonight's seminar with Reilly bodycomb\n",
      "Score: 0.93 :: Thank you to Reilly Bodycomb for his seminar tonight! Really enjoyed it! Thank you to Nels\n",
      "Score: 0.93 :: Went to Reilly Bodycomb’s Saturday seminar on attacking and defending Achilles locks, and \n",
      "Score: 0.93 :: Jag lade till ett videoklipp i en spellista på Reilly Bodycomb Seminar at Studio : Ankle l\n",
      "Score: 0.93 :: Even more lineage in the house tonight! Super reunion with rdojo &…\n",
      "Score: 0.93 :: Remember this guy? Well, if you don't, it's our former grappling instructor, Reilly Bodyco\n",
      "Score: 0.92 :: tonight finished out running a couple matches under the new …\n",
      "Score: 0.92 :: A most excellent seminar with Reilly Bodycomb at tonight. Thanks to for hooking it up!\n"
     ]
    }
   ],
   "source": [
    "#select topic\n",
    "# 3 tourney talk\n",
    "topic_idx = 7\n",
    "\n",
    "# Return the sorted list of cosine similarities to the first document\n",
    "sims = sorted(enumerate(index[doc_vecs[topic_idx]]), key=lambda item: -item[1])\n",
    "\n",
    "print('Selected Topic: #', topic_idx)\n",
    "# Let's take a look at how we did\n",
    "for sim_doc_id, sim_score in sims[0:15]: \n",
    "    print(\"Score: \" + str(sim_score)[:4], '::', df_du_tweets.loc[sim_doc_id]['text'][:90])\n",
    "    #print(\"\")\n",
    "#    print(df_d_tweets.loc[sim_doc_id][['user', 'text']])\n",
    "#    print(df_d_tweets.loc[sim_doc_id]['user'], \" ::: \", df_d_tweets.loc[sim_doc_id]['dt'], \" ::: \", df_d_tweets.loc[sim_doc_id]['processed'], df_d_tweets.loc[sim_doc_id]['id'])\n",
    "#    print(, df_d_tweets.loc[sim_doc_id]['id'])"
   ]
  },
  {
   "cell_type": "code",
   "execution_count": null,
   "metadata": {},
   "outputs": [],
   "source": []
  },
  {
   "cell_type": "code",
   "execution_count": null,
   "metadata": {},
   "outputs": [],
   "source": []
  },
  {
   "cell_type": "markdown",
   "metadata": {},
   "source": [
    "### c. NMF Model"
   ]
  },
  {
   "cell_type": "code",
   "execution_count": 159,
   "metadata": {},
   "outputs": [],
   "source": [
    "from sklearn.decomposition import NMF\n",
    "nmf = NMF(n_components=100)\n",
    "nmf_vecs = nmf.fit_transform(tfidf_vecs)"
   ]
  },
  {
   "cell_type": "code",
   "execution_count": 161,
   "metadata": {},
   "outputs": [
    {
     "data": {
      "text/plain": [
       "KMeans(algorithm='auto', copy_x=True, init='k-means++', max_iter=300,\n",
       "    n_clusters=13, n_init=10, n_jobs=1, precompute_distances='auto',\n",
       "    random_state=None, tol=0.0001, verbose=0)"
      ]
     },
     "execution_count": 161,
     "metadata": {},
     "output_type": "execute_result"
    }
   ],
   "source": [
    "# KMeans clustering on Newsgroups\n",
    "# Use the data loaded from earlier\n",
    "from sklearn.cluster import KMeans\n",
    "kmeans = KMeans(n_clusters=13)\n",
    "kmeans.fit(nmf_vecs)\n",
    "#kmeans.fit_predict(nmf_vecs)"
   ]
  },
  {
   "cell_type": "code",
   "execution_count": 162,
   "metadata": {},
   "outputs": [],
   "source": [
    "TOPIC_INDEX = 12"
   ]
  },
  {
   "cell_type": "code",
   "execution_count": 163,
   "metadata": {},
   "outputs": [],
   "source": [
    "## word cloud\n",
    "from os import path\n",
    "import matplotlib.pyplot as plt\n",
    "from wordcloud import WordCloud\n",
    "\n",
    "def terms_to_wordcounts(terms, multiplier=1000):\n",
    "    return  \" \".join([\" \".join(int(multiplier*i[0]) * [i[1]]) for i in terms])\n"
   ]
  },
  {
   "cell_type": "code",
   "execution_count": 164,
   "metadata": {},
   "outputs": [
    {
     "data": {
      "text/plain": [
       "(798,)"
      ]
     },
     "execution_count": 164,
     "metadata": {},
     "output_type": "execute_result"
    }
   ],
   "source": [
    "kmeans.fit_predict(nmf_vecs).shape"
   ]
  },
  {
   "cell_type": "code",
   "execution_count": 181,
   "metadata": {},
   "outputs": [
    {
     "data": {
      "text/plain": [
       "56                              Victor Roll! Can't wait for the Tournament tomorrow at am at Bay Jiu-Jitsu\n",
       "159             Awesome! Congratulations rdojo on the gold! It was the roll with tcthundercat that really…\n",
       "192                                                               Victor Roll Leg Locks -Reilly Bodycomb …\n",
       "370    I added a video to a playlist 'Victor Roll' counter to a body lock- Reilly Bodycomb Seminar - NY...\n",
       "490                           'Victor Roll' counter to a body lock- Reilly Bodycomb Seminar - NY July ...:\n",
       "491                I liked a video 'Victor Roll' counter to a body lock- Reilly Bodycomb Seminar - NY July\n",
       "492                            'Victor Roll' counter to a body lock- Reilly Bodycomb Seminar - NY July ...\n",
       "631                              I liked a video Sambo Technique: Victor Roll Leg Locks by Reilly Bodycomb\n",
       "715                          I favorited a video Sambo Technique: Victor Roll Leg Locks by Reilly Bodycomb\n",
       "758                                Mma Fighting: Sambo Technique: Victor Roll Leg Locks by Reilly Bodycomb\n",
       "783                                 New post: Sambo Technique: Victor Roll Leg Locks by Reilly Bodycomb ()\n",
       "785                                            Sambo Technique: Victor Roll Leg Locks by Reilly Bodycomb -\n",
       "786                                             Sambo Technique: Victor Roll Leg Locks by Reilly Bodycomb.\n",
       "787                          New Wikijutsu Post: Sambo Technique: Victor Roll Leg Locks by Reilly Bodycomb\n",
       "788               I favorited a YouTube video -- Sambo Technique: Victor Roll Leg Locks by Reilly Bodycomb\n",
       "789    I rated a YouTube video (5 out of stars) -- Sambo Technique: Victor Roll Leg Locks by Reilly Bod...\n",
       "Name: text, dtype: object"
      ]
     },
     "execution_count": 181,
     "metadata": {},
     "output_type": "execute_result"
    }
   ],
   "source": [
    "TOPIC_INDEX = 1\n",
    "samp_topic = df_du_tweets.loc[kmeans.predict(nmf_vecs) == TOPIC_INDEX]\n",
    "samp_topic['text']"
   ]
  },
  {
   "cell_type": "code",
   "execution_count": null,
   "metadata": {},
   "outputs": [],
   "source": [
    "kmeans.predict(nmf_vecs) "
   ]
  },
  {
   "cell_type": "code",
   "execution_count": 1535,
   "metadata": {},
   "outputs": [
    {
     "data": {
      "text/plain": [
       "11     Don't forget this weekend Precision will have Sambo Eert and BJJ Black Belt Reilly Bodycomb in f...\n",
       "12     's Reilly Bodycomb is on the latest episode of the Great Northeast BJJ Podcast. Come for the sam...\n",
       "60                                             Reilly Bodycomb: Translating his no gi techniques to gi BJJ\n",
       "62                             I liked a video Reilly Bodycomb: Translating his no gi techniques to gi BJJ\n",
       "64                                                 Sambo Technique in BJJ tournament Reilly Bodycomb :// …\n",
       "67                     Panda Nation grappler Reilly Bodycomb earned his BJJ black belt over the weekend! .\n",
       "68                                              Congrats to Reilly Bodycomb on getting his BJJ black belt!\n",
       "113    So American Sambo stand out Reilly Bodycomb did an IBJJF Open for the first time and finished se...\n",
       "189                                           TBT To RDojo Sambo Camp In House Tournament Finals at GSBJJ!\n",
       "214                                                          Reilly Bodycomb – Top Flow lesson | WATCH BJJ\n",
       "266    GSBJJ Students and Friends! Reserve your spot in Reilly Bodycomb's February training camp! Limit...\n",
       "298    AttackTheBack: BJJEasternEurop Leg Lock War: Sambo vs BJJ, Polaris Pro , Sept. : Reilly Bodycomb...\n",
       "299                             Leg Lock War: Sambo vs BJJ, Polaris Pro , Sept. : Reilly Bodycomb is co...\n",
       "314    GardenStateBJJ: Incredible seminar with Reilly Bodycomb today at GSBJJ! invertedgear rdojo garde...\n",
       "317                                        Incredible seminar with Reilly Bodycomb today at GSBJJ! rdojo …\n",
       "338                                                                         DBJJ: Flying armbar! rdojo … ;\n",
       "367        July : DBJJ is excited to bring you Sambo Champ Reilly Bodycomb on his first ever visit to AZ!…\n",
       "446                          I liked a video Rdojo Presents: Jeff Henderson - Grappling and BJJ Highlights\n",
       "481                                     FLABJJ Gear Review: Top Rock Seminar Download by Reilly Bodycomb …\n",
       "485    You could also invite Sambo star Reilly Bodycomb against a BJJ good player (say, Tanquinho) for ...\n",
       "625    This Week in BJJ with names Reilly Bodycomb's Sambo Wrestling as Book of the Year! (55:55 of video)\n",
       "627    /29/12 BJJ match of the day Mike Fowler vs Reilly Bodycomb: Fowler vs Bodycomb BJJ match of the ...\n",
       "670    Come train with Reilly Bodycomb today! He is teaching kids at and adults at :15. There will be n...\n",
       "677    /28/12 BJJ match of the day Mike Fowler vs Reilly Bodycomb: Fowler-Bodycomb BJJ match of the day...\n",
       "Name: text, dtype: object"
      ]
     },
     "execution_count": 1535,
     "metadata": {},
     "output_type": "execute_result"
    }
   ],
   "source": [
    "df_du_tweets['text'][df_du_tweets['text'].str.contains('BJJ')]"
   ]
  },
  {
   "cell_type": "code",
   "execution_count": 183,
   "metadata": {},
   "outputs": [
    {
     "name": "stdout",
     "output_type": "stream",
     "text": [
      "0\n"
     ]
    }
   ],
   "source": [
    "#Find number of clusters\n",
    "from collections import Counter\n",
    "from sklearn.metrics import silhouette_samples, silhouette_score\n",
    "\n",
    "\n",
    "elbow_kinks = []\n",
    "best_sils = []\n",
    "best_inertias = []\n",
    "\n",
    "for i in range(0,1):\n",
    "    print(i)\n",
    "    MAX_K = 49\n",
    "\n",
    "    clusters_rng = range(1, MAX_K + 1)\n",
    "\n",
    "    inertias = np.zeros(MAX_K)\n",
    "    diff = np.zeros(MAX_K)\n",
    "    diff2 = np.zeros(MAX_K)\n",
    "    diff3 = np.zeros(MAX_K)\n",
    "    sil_scores = []\n",
    "\n",
    "    for k in clusters_rng:\n",
    "        kmeans = KMeans(k, init='k-means++',  n_init=7, random_state = 0 ).fit(nmf_vecs)\n",
    "        labels = kmeans.predict(nmf_vecs)\n",
    "        \n",
    "        if k == 1:\n",
    "            sil_scores.append(-1)\n",
    "        else:\n",
    "            sil_scores.append(silhouette_score(tfidf_vecs, labels))\n",
    "        \n",
    "        inertias[k - 1] = kmeans.inertia_\n",
    "        # first difference    \n",
    "        if k > 1:\n",
    "            diff[k - 1] = inertias[k - 1] - inertias[k - 2]\n",
    "        # second difference\n",
    "        if k > 2:\n",
    "            diff2[k - 1] = diff[k - 1] - diff[k - 2]\n",
    "        # third difference\n",
    "        if k > 3:\n",
    "            diff3[k - 1] = diff2[k - 1] - diff2[k - 2]\n",
    "\n",
    "    elbow_kinks.append(np.argmin(diff3[3:]) + 3)\n",
    "    best_sils.append(np.argmax(sil_scores))\n",
    "    best_inertias.append(inertias)\n",
    "\n",
    "kclust_elbow = Counter(elbow_kinks).most_common(1)[0][0]\n",
    "kclust_sil = Counter(best_sils).most_common(1)[0][0]\n",
    "\n"
   ]
  },
  {
   "cell_type": "code",
   "execution_count": 186,
   "metadata": {},
   "outputs": [
    {
     "data": {
      "text/plain": [
       "47"
      ]
     },
     "execution_count": 186,
     "metadata": {},
     "output_type": "execute_result"
    }
   ],
   "source": [
    "kclust_sil"
   ]
  },
  {
   "cell_type": "code",
   "execution_count": 188,
   "metadata": {},
   "outputs": [
    {
     "data": {
      "text/plain": [
       "6"
      ]
     },
     "execution_count": 188,
     "metadata": {},
     "output_type": "execute_result"
    }
   ],
   "source": [
    "kclust_elbow"
   ]
  },
  {
   "cell_type": "code",
   "execution_count": 189,
   "metadata": {},
   "outputs": [
    {
     "data": {
      "image/png": "[encoded data removed]",
      "text/plain": [
       "<matplotlib.figure.Figure at 0x7fbd61227208>"
      ]
     },
     "metadata": {},
     "output_type": "display_data"
    }
   ],
   "source": [
    "#Elbow Plot\n",
    "\n",
    "sns.set_style(\"white\")\n",
    "with plt.rc_context({'nbagg.transparent':'True', 'axes.labelcolor': 'white', 'text.color':'white', 'axes.edgecolor':'white', 'xtick.color':'white', 'ytick.color':'white', 'figure.facecolor':'white'}):\n",
    "\n",
    "    plt.figure(figsize = (10,8))\n",
    "    plt.plot(clusters_rng, pd.DataFrame(best_inertias).mean(), \".-\", color = 'steelblue', markersize = 13)\n",
    "    plt.plot(clusters_rng[kclust_elbow], pd.DataFrame(best_inertias).mean()[kclust_elbow], marker='o', markersize=20, color = 'blanchedalmond',\n",
    "             markeredgewidth=2, markeredgecolor='orange')#, markerfacecolor=None)\n",
    "    plt.ylabel(\"Inertia\", fontsize = 16)\n",
    "    plt.xlabel(\"K Clusters\", fontsize = 16)\n",
    "    plt.xticks(fontsize = 16)\n",
    "    plt.yticks(fontsize = 16)\n",
    "    plt.title(\"Kmeans Elbow Plot\", fontsize = 18)\n",
    "#    plt.show()\n",
    "\n",
    "\n",
    "#    fig = plt_plot.get_figure()\n",
    "    plt.savefig('direct_elbow' +'.png', transparent=True)\n",
    "\n",
    "#         plt.title(\"Twitter Profile: \" + author_name, fontsize = 16 )\n",
    "#         plt.ylabel('Density', fontsize = 16)\n",
    "#         plt.xlabel('Topic', fontsize = 16)\n",
    "#         plt.xticks(rotation=45, fontsize = 12)\n",
    "\n",
    "        \n",
    "        \n",
    "        "
   ]
  },
  {
   "cell_type": "code",
   "execution_count": 1530,
   "metadata": {},
   "outputs": [
    {
     "name": "stdout",
     "output_type": "stream",
     "text": [
      "                                                                                                    text\n",
      "414         Technique Talk: Reilly Bodycomb makes sense of Rousimar Palhares' brutality … via GOOD shit!\n",
      "416             MUST SEE!! Technique Talk: Reilly Bodycomb makes sense of Rousimar Palhares' brutality …\n",
      "419  This is OUTSTANDING!! Technique Talk: Reilly Bodycomb, makes sense of Rousimar Palhares' brutali...\n",
      "420                       Technique Talk: Reilly Bodycomb makes sense of Rousimar Palhares' brutality...\n",
      "421                        Technique Talk: Reilly Bodycomb makes sense of Rousimar Palhares' brutality |\n",
      "422                  Technique Talk: Reilly Bodycomb makes sense of Rousimar Palhares' brutality … by on\n",
      "424           Post Edited: Technique Talk: Reilly Bodycomb makes sense of Rousimar Palhares' brutality …\n",
      "425           Technique Talk: Reilly Bodycomb makes sense of Rousimar Palhares' brutality – MMA Fighting\n",
      "426         Technique Talk: Reilly Bodycomb makes sense of Rousimar Palhares' brutality - MMA Fighting …\n",
      "427  Technique Talk: Reilly Bodycomb makes sense of Rousimar Palhares' brutality: Why is there still ...\n",
      "428  Technique Talk: Reilly Bodycomb makes sense of Rousimar Palhares' brutality: Why is there sti......\n",
      "429  Technique Talk: Reilly Bodycomb makes sense of Rousimar Palhares' brutality - MMA Fighting: Tech...\n",
      "430                          Technique Talk: Reilly Bodycomb makes sense of Rousimar Palhares’ brutality\n",
      "432           Technique Talk: Reilly Bodycomb makes sense of Rousimar Palhares' brutality - MMA Fighting\n",
      "433                    Technique Talk: Reilly Bodycomb makes sense of Rousimar Palhares' brutality … via\n",
      "(24, 1)\n"
     ]
    },
    {
     "data": {
      "image/png": "[encoded data removed]",
      "text/plain": [
       "<matplotlib.figure.Figure at 0x7f65ebcaf828>"
      ]
     },
     "metadata": {},
     "output_type": "display_data"
    },
    {
     "name": "stdout",
     "output_type": "stream",
     "text": [
      "0\n"
     ]
    }
   ],
   "source": [
    "#wordcloud = WordCloud(width=1000, height=500, regexp=r\"\\w[\\w' ]+\").generate(\"+\".join(my_list))\n",
    "#TOPIC_INDEX = 0\n",
    "samp_topic = df_du_tweets.loc[kmeans.predict(nmf_vecs) == TOPIC_INDEX]\n",
    "prev = samp_topic[[ 'text']]\n",
    "#print(prev)\n",
    "wordcloud = WordCloud(width=600, height=400, background_color='white', max_words=25).generate(text = ' '.join(samp_topic['processed']))\n",
    "print(prev.head(15))\n",
    "#plt.axis(\"off\")\n",
    "#plt.savefig(\"terms1\")\n",
    "print(prev.shape)\n",
    "\n",
    "plt.figure(figsize = (8,8))\n",
    "plt.imshow(wordcloud, interpolation='bilinear')\n",
    "plt.axis('off')\n",
    "plt.show()\n",
    "#plt.close()\n",
    "\n",
    "print(TOPIC_INDEX)\n",
    "#0 palhares\n",
    "#1 random\n",
    "#2 sambo seminar\n",
    "#3 leglock seminar\n",
    "#4 combat sambo\n",
    "#5 random\n",
    "#6 *low\n",
    "#7 seminar review *low\n",
    "#8 nogi grappling\n",
    "#9 sambo samboleague\n",
    "#10 sambo vid\n",
    "#11 ny sambo\n",
    "#12 specific palhares *low\n",
    "#13 interview *low\n",
    "#14 seminar norm? "
   ]
  },
  {
   "cell_type": "code",
   "execution_count": 1620,
   "metadata": {},
   "outputs": [
    {
     "data": {
      "image/png": "[encoded data removed]",
      "text/plain": [
       "<matplotlib.figure.Figure at 0x7f65b82b5780>"
      ]
     },
     "metadata": {},
     "output_type": "display_data"
    }
   ],
   "source": [
    "from sklearn.feature_extraction import DictVectorizer\n",
    "\n",
    "lda = lda_model\n",
    "n_topics = 15\n",
    "def topics_to_vectorspace(n_topics, n_words=20):\n",
    "    rows = []\n",
    "    for i in range(n_topics):\n",
    "        temp = lda.show_topic(i, n_words)\n",
    "        row = dict(((i[1],i[0]) for i in temp))\n",
    "        rows.append(row)\n",
    "\n",
    "    return rows    \n",
    "\n",
    "vec = DictVectorizer()\n",
    "X = vec.fit_transform(topics_to_vectorspace(n_topics))\n",
    "\n",
    "\n",
    "from sklearn.decomposition import PCA\n",
    "\n",
    "pca = PCA(n_components=2)\n",
    "\n",
    "X_pca = pca.fit(X.toarray()).transform(X.toarray())\n",
    "\n",
    "plt.figure(figsize = (14,14))\n",
    "for i in range(X_pca.shape[0]):\n",
    "    plt.scatter(X_pca[i, 0], X_pca[i, 1], alpha=.5)\n",
    "    plt.text(X_pca[i, 0], X_pca[i, 1], s=' ' + str(i))    \n",
    "\n",
    "plt.title('PCA Topics')\n",
    "plt.savefig(\"pca_topic\")\n",
    "\n",
    "plt.show()\n",
    "\n"
   ]
  },
  {
   "cell_type": "code",
   "execution_count": 1585,
   "metadata": {},
   "outputs": [
    {
     "data": {
      "text/plain": [
       "array([9.99099711, 9.92657537])"
      ]
     },
     "execution_count": 1585,
     "metadata": {},
     "output_type": "execute_result"
    }
   ],
   "source": [
    "pca.singular_values_"
   ]
  },
  {
   "cell_type": "code",
   "execution_count": null,
   "metadata": {},
   "outputs": [],
   "source": []
  },
  {
   "cell_type": "code",
   "execution_count": null,
   "metadata": {},
   "outputs": [],
   "source": []
  }
 ],
 "metadata": {
  "kernelspec": {
   "display_name": "Python 3",
   "language": "python",
   "name": "python3"
  },
  "language_info": {
   "codemirror_mode": {
    "name": "ipython",
    "version": 3
   },
   "file_extension": ".py",
   "mimetype": "text/x-python",
   "name": "python",
   "nbconvert_exporter": "python",
   "pygments_lexer": "ipython3",
   "version": "3.6.4"
  }
 },
 "nbformat": 4,
 "nbformat_minor": 2
}
